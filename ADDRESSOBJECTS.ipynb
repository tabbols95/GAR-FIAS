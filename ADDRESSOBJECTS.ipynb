{
 "cells": [
  {
   "cell_type": "code",
   "execution_count": 5,
   "id": "934df4a2",
   "metadata": {},
   "outputs": [],
   "source": [
    "import xml.etree.ElementTree as ET"
   ]
  },
  {
   "cell_type": "code",
   "execution_count": 9,
   "id": "a7921071",
   "metadata": {},
   "outputs": [],
   "source": [
    "# Файл, полученный с сайта ФИАС\n",
    "# https://fias-file.nalog.ru/downloads/2024.05.24/gar_xml.zip\n",
    "tree = ET.parse(\"AS_ADDR_OBJ_20240328_24095bbf-5dc9-44e2-9bf4-6f3d991cf38f.XML\")\n",
    "root = tree.getroot()"
   ]
  },
  {
   "cell_type": "code",
   "execution_count": 12,
   "id": "57cc826c",
   "metadata": {},
   "outputs": [
    {
     "data": {
      "text/plain": [
       "'ADDRESSOBJECTS'"
      ]
     },
     "execution_count": 12,
     "metadata": {},
     "output_type": "execute_result"
    }
   ],
   "source": [
    "# Объект\n",
    "root.tag"
   ]
  },
  {
   "cell_type": "code",
   "execution_count": 24,
   "id": "1c4d6700",
   "metadata": {},
   "outputs": [
    {
     "name": "stdout",
     "output_type": "stream",
     "text": [
      "ID: 1874108\n",
      "OBJECTID: 99060302\n",
      "OBJECTGUID: dfd64d3d-79b8-421f-b1a1-e527eaaf558f\n",
      "CHANGEID: 158546642\n",
      "NAME: Озерская\n",
      "TYPENAME: ул\n",
      "LEVEL: 8\n",
      "OPERTYPEID: 10\n",
      "PREVID: 0\n",
      "NEXTID: 0\n",
      "UPDATEDATE: 2020-11-12\n",
      "STARTDATE: 2020-11-12\n",
      "ENDDATE: 2079-06-06\n",
      "ISACTUAL: 1\n",
      "ISACTIVE: 1\n"
     ]
    }
   ],
   "source": [
    "for obj in root[:1]:\n",
    "    row = obj.attrib\n",
    "    print(\"ID:\", row[\"ID\"])\n",
    "    print(\"OBJECTID:\", row[\"OBJECTID\"])\n",
    "    print(\"OBJECTGUID:\", row[\"OBJECTGUID\"])\n",
    "    print(\"CHANGEID:\", row[\"CHANGEID\"])\n",
    "    print(\"NAME:\", row[\"NAME\"])\n",
    "    print(\"TYPENAME:\", row[\"TYPENAME\"])\n",
    "    print(\"LEVEL:\", row[\"LEVEL\"])\n",
    "    print(\"OPERTYPEID:\", row[\"OPERTYPEID\"])\n",
    "    print(\"PREVID:\", row[\"PREVID\"])\n",
    "    print(\"NEXTID:\", row[\"NEXTID\"])\n",
    "    print(\"UPDATEDATE:\", row[\"UPDATEDATE\"])\n",
    "    print(\"STARTDATE:\", row[\"STARTDATE\"])\n",
    "    print(\"ENDDATE:\", row[\"ENDDATE\"])\n",
    "    print(\"ISACTUAL:\", row[\"ISACTUAL\"])\n",
    "    print(\"ISACTIVE:\", row[\"ISACTIVE\"])"
   ]
  },
  {
   "cell_type": "code",
   "execution_count": null,
   "id": "414e0559",
   "metadata": {},
   "outputs": [],
   "source": []
  }
 ],
 "metadata": {
  "kernelspec": {
   "display_name": "Python 3 (ipykernel)",
   "language": "python",
   "name": "python3"
  },
  "language_info": {
   "codemirror_mode": {
    "name": "ipython",
    "version": 3
   },
   "file_extension": ".py",
   "mimetype": "text/x-python",
   "name": "python",
   "nbconvert_exporter": "python",
   "pygments_lexer": "ipython3",
   "version": "3.11.5"
  }
 },
 "nbformat": 4,
 "nbformat_minor": 5
}
